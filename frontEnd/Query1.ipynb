{
 "cells": [
  {
   "cell_type": "code",
   "execution_count": 1,
   "metadata": {},
   "outputs": [],
   "source": [
    "#!pip install mercury\n",
    "#!pip install oracledb\n",
    "#!pip install matplotlib\n",
    "#!pip install ipywidgets matplotlib\n",
    "#!pip install ipympl\n"
   ]
  },
  {
   "cell_type": "code",
   "execution_count": 2,
   "metadata": {},
   "outputs": [],
   "source": [
    "#%matplotlib notebook \n",
    "%matplotlib widget\n",
    "#make the plots interactive\n"
   ]
  },
  {
   "cell_type": "code",
   "execution_count": 1,
   "metadata": {},
   "outputs": [],
   "source": [
    "import mercury as mr # for widgets\n",
    "import oracledb\n",
    "import random # for random data generation\n",
    "from matplotlib import pyplot as plt # for chart\n",
    "import time\n",
    "import numpy as np\n",
    "from ipywidgets import interactive, widgets, interact, interact_manual\n",
    "import IPython.display\n",
    "from IPython.display import display, clear_output, HTML\n"
   ]
  },
  {
   "cell_type": "code",
   "execution_count": 2,
   "metadata": {},
   "outputs": [],
   "source": [
    "from pythonSqlQuery import *\n",
    "from plotData import *\n"
   ]
  },
  {
   "cell_type": "code",
   "execution_count": 3,
   "metadata": {},
   "outputs": [
    {
     "name": "stdout",
     "output_type": "stream",
     "text": [
      "Successfully executed script: ../sqlScripts/Query1_WindDirection.sql\n"
     ]
    }
   ],
   "source": [
    "raw_data=execute_sql_script(\"../sqlScripts/Query1_WindDirection.sql\")"
   ]
  },
  {
   "cell_type": "markdown",
   "metadata": {},
   "source": [
    "## Investigating the Impact of Wind Directions on Road Safety\n",
    "Exploring the relationship between wind direction and accident severity is essential for identifying specific risk factors associated with adverse weather conditions, developing targeted safety measures, and enhancing driver awareness. By understanding how wind direction influences accident severity, transportation authorities can implement optimized resource allocation, policies, and safety campaigns to mitigate risks and improve road safety. This knowledge enables informed decision-making processes aimed at reducing the frequency and severity of accidents caused by adverse wind conditions, ultimately enhancing safety for all road users. Click on the button below to further explore these relationships.\n"
   ]
  },
  {
   "cell_type": "code",
   "execution_count": null,
   "metadata": {},
   "outputs": [],
   "source": [
    "labels=[\"Towards the Vehicle\", \"Against the Vehicle\", \"Perpendicular to the Vehicle\"]\n",
    "Query1SeverityPlot(raw_data, labels,\"Query 1: Correlation of Accident Severity and Travel With Wind\")"
   ]
  },
  {
   "cell_type": "markdown",
   "metadata": {},
   "source": [
    "The plot illustrating the Correlation of Accident Severity and Travel With Wind provides a comprehensive tool for examining how wind conditions affect accident severity, categorized by the direction of travel relative to the wind - toward vehicle, against vehicle, and perpendicular to the vehicle. Users can interactively select time intervals to observe changes in accident severity trends based on wind direction. This functionality facilitates a nuanced understanding of how wind conditions influence accident outcomes, with each direction of travel potentially experiencing varying levels of severity. \n",
    "\n",
    "The plot depicting the Correlation of Accident Severity and Travel With Wind from January 2016 to January 2019 reveals distinct patterns in accident severity based on wind direction. Notably, the line representing accidents with wind toward the vehicle exhibits considerable fluctuations over time, indicating a volatile relationship between wind direction and accident severity. Conversely, the lines representing accidents against the vehicle and perpendicular to the vehicle display smoother trends, with a consistent severity level averaging around 2.5. This contrast suggests that accidents involving wind toward the vehicle may be more susceptible to fluctuations in severity, potentially influenced by factors such as wind speed, vehicle stability, and driver reactions. \n",
    "\n",
    "Researching the relationship between accident severity and travel with wind is essential for several reasons. Firstly, it allows for the identification of environmental factors that contribute to increased accident severity, enabling the development of targeted safety measures and interventions. Additionally, understanding how wind impacts accidents can inform road design and infrastructure planning to mitigate the effects of adverse weather conditions. Moreover, such research can contribute to the advancement of predictive models and risk assessment tools to enhance road safety and reduce the incidence of severe accidents, ultimately saving lives and reducing societal costs associated with traffic collisions."
   ]
  },
  {
   "cell_type": "code",
   "execution_count": null,
   "metadata": {},
   "outputs": [],
   "source": [
    "Query1CrashesPlot(raw_data, labels,\"Query 1: Correlation of Total Number of Crashes and Travel With Wind\")"
   ]
  },
  {
   "cell_type": "markdown",
   "metadata": {},
   "source": [
    "The plot illustrating the Correlation of Total Number of Crashes and Travel With Wind offers a dynamic tool for analyzing how wind conditions impact the frequency of traffic accidents, categorized by the direction of travel relative to the wind - toward vehicle, against vehicle, and perpendicular to the vehicle. Users can interactively select time intervals to observe changes in the total number of crashes associated with different wind directions. This functionality enables a detailed exploration of how variations in wind patterns influence the occurrence of traffic accidents, potentially highlighting areas of increased risk or vulnerability. \n",
    "\n",
    "The plot illustrating the Correlation of Total Number of Crashes and Travel With Wind from January 2016 to January 2019 reveals intriguing patterns in crash frequency relative to wind direction. Notably, the line representing wind perpendicular to the vehicle consistently surpasses the line for wind against the vehicle, while wind against the vehicle consistently exceeds wind toward the vehicle in terms of total crash numbers over the specified time period. Moreover, the total number of crashes associated with wind toward the vehicle remains notably lower compared to the other two wind directions throughout the observation period. These findings suggest differential impacts of wind direction on crash frequency, with wind perpendicular to the vehicle potentially posing greater risk, followed by wind against the vehicle, while wind toward the vehicle appears to correlate with lower crash rates.\n",
    "\n",
    "Researching the relationship between the total number of crashes and travel with wind is crucial for several reasons. Firstly, it provides insights into the role of environmental factors in shaping traffic safety, allowing for the development of targeted strategies to mitigate the impact of adverse weather conditions on roadways. Additionally, understanding how wind affects crash frequency can inform transportation planning and infrastructure design, helping to enhance road safety measures and reduce the incidence of accidents, particularly in areas prone to hazardous wind conditions. Moreover, such research contributes to the advancement of predictive modeling and risk assessment tools, enabling stakeholders to better anticipate and manage the impact of weather-related factors on traffic safety, ultimately saving lives and minimizing economic losses associated with traffic collisions."
   ]
  },
  {
   "cell_type": "code",
   "execution_count": null,
   "metadata": {},
   "outputs": [],
   "source": [
    "Query1DistancePlot(raw_data, labels,\"Query 1: Correlation of Distance Affected by a Crash and Travel With Wind\")"
   ]
  },
  {
   "cell_type": "markdown",
   "metadata": {},
   "source": [
    "The plot depicting the Correlation of Distance Affected by a Crash and Travel With Wind offers a comprehensive visualization tool for examining how wind conditions influence the extent of crash impact, categorized by the direction of travel relative to the wind - toward vehicle, against vehicle, and perpendicular to the vehicle. Users can interactively select time intervals to observe changes in the distance affected by crashes associated with different wind directions. This functionality facilitates a nuanced understanding of how variations in wind patterns affect the severity and spatial distribution of crash impacts, potentially highlighting areas of increased risk or vulnerability. \n",
    "\n",
    "The plot depicting the Correlation of Distance Affected by a Crash and Travel With Wind from January 2016 to January 2019 reveals notable dynamics in crash impact distance relative to wind direction. Notably, the line representing wind toward the vehicle exhibits higher volatility compared to wind against the vehicle and perpendicular to the vehicle, which display relatively smoother trends. This volatility suggests that crashes influenced by wind toward the vehicle experience more variability in the extent of their impact over time. Conversely, the lines for wind against the vehicle and perpendicular to the vehicle fluctuate without showing significant differences between them, making it challenging to predict a clear trend. These findings underscore the complex interplay between wind direction and crash impact distance, highlighting the need for further research to better understand and mitigate the effects of adverse weather conditions on road safety.\n",
    "\n",
    "Researching the relationship between distance affected by a crash and travel with wind is crucial for several reasons. Firstly, it provides insights into the role of environmental factors in shaping the severity and extent of crash impacts, allowing for the development of targeted strategies to mitigate the impact of adverse weather conditions on roadways. Additionally, understanding how wind influences crash impact distance can inform emergency response protocols and infrastructure planning, aiding in the allocation of resources and implementation of measures to enhance road safety and minimize the consequences of accidents. Moreover, such research contributes to the advancement of predictive modeling and risk assessment tools, enabling stakeholders to better anticipate and manage the impact of weather-related factors on traffic safety, ultimately saving lives and reducing the societal and economic costs associated with traffic collisions."
   ]
  },
  {
   "cell_type": "code",
   "execution_count": null,
   "metadata": {},
   "outputs": [],
   "source": [
    "button = widgets.Button(description=\"Back to Home Page\")\n",
    "output = widgets.Output()\n",
    "\n",
    "def on_button_click(b):\n",
    "    with output:\n",
    "        # Redirect to the Query1 Notebook using HTML\n",
    "        display(HTML('<script>window.location.href = \"website.ipynb\";</script>'))\n",
    "\n",
    "button.on_click(on_button_click)\n",
    "\n",
    "# Display the button\n",
    "display(button, output)"
   ]
  },
  {
   "cell_type": "code",
   "execution_count": null,
   "metadata": {},
   "outputs": [],
   "source": []
  }
 ],
 "metadata": {
  "kernelspec": {
   "display_name": "Python 3 (ipykernel)",
   "language": "python",
   "name": "python3"
  },
  "language_info": {
   "codemirror_mode": {
    "name": "ipython",
    "version": 3
   },
   "file_extension": ".py",
   "mimetype": "text/x-python",
   "name": "python",
   "nbconvert_exporter": "python",
   "pygments_lexer": "ipython3",
   "version": "3.11.7"
  }
 },
 "nbformat": 4,
 "nbformat_minor": 4
}
