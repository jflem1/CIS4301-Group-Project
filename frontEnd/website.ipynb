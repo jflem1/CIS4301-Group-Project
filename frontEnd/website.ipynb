{
 "cells": [
  {
   "cell_type": "code",
   "execution_count": 2,
   "metadata": {
    "ExecuteTime": {
     "end_time": "2024-04-14T02:18:58.944224Z",
     "start_time": "2024-04-14T02:18:47.570306Z"
    }
   },
   "outputs": [],
   "source": [
    "#!pip install mercury\n",
    "#!pip install oracledb\n",
    "#!pip install matplotlib\n",
    "#!pip install ipywidgets matplotlib\n",
    "#!pip install ipympl\n"
   ]
  },
  {
   "cell_type": "code",
   "execution_count": 3,
   "metadata": {
    "ExecuteTime": {
     "end_time": "2024-04-14T01:58:08.391416Z",
     "start_time": "2024-04-14T01:58:08.131107Z"
    }
   },
   "outputs": [],
   "source": [
    "#%matplotlib notebook \n",
    "%matplotlib widget\n",
    "#make the plots interactive"
   ]
  },
  {
   "cell_type": "code",
   "execution_count": 2,
   "metadata": {
    "ExecuteTime": {
     "end_time": "2024-04-14T01:58:09.431422Z",
     "start_time": "2024-04-14T01:58:09.142933Z"
    }
   },
   "outputs": [],
   "source": [
    "import mercury as mr # for widgets\n",
    "import oracledb\n",
    "import random # for random data generation\n",
    "from matplotlib import pyplot as plt # for chart\n",
    "import time\n",
    "import numpy as np\n",
    "from ipywidgets import interactive, widgets, interact, interact_manual\n",
    "import IPython.display\n",
    "from IPython.display import display, clear_output, HTML"
   ]
  },
  {
   "cell_type": "code",
   "execution_count": 3,
   "metadata": {
    "ExecuteTime": {
     "end_time": "2024-04-14T01:58:09.557729Z",
     "start_time": "2024-04-14T01:58:09.554533Z"
    }
   },
   "outputs": [],
   "source": [
    "from pythonSqlQuery import *\n",
    "from plotData import *\n"
   ]
  },
  {
   "cell_type": "markdown",
   "metadata": {},
   "source": [
    "# Welcome to DriveSafeUSA \n",
    "Driving is an integral part of our daily lives, but it comes with risks. Every year, countless lives are affected by driving accidents, making it crucial to prioritize safety on the roads. Introducing DriveSafeUSA - an innovative application designed to enhance your driving experience and keep you informed about potential hazards on the road.\n",
    "\n",
    "\n",
    "### What is DriveSafeUSA\n",
    "DriveSafeUSA is a web-based application meticulously crafted to analyze years of driving data with the aim of empowering users with knowledge about potential driving hazards. Our platform is dedicated to promoting safer driving habits and ultimately reducing the number of accidents on American roads.\n",
    "\n",
    "### How to Use DriveSafeUSA\n",
    "DriveSafeUSA is designed to be both simple to use and powerful in its capabilities. With an intuitive user interface, navigating through the application is effortless, yet the insights it provides are profound. Here's how you can harness the full potential of DriveSafeUSA:\n",
    "\n",
    "#### 1. Explore Temporal Analysis: \n",
    "Delve into the depths of driving data with our Temporal Analysis feature. This powerful tool allows users to analyze trends over time, providing invaluable insights into the evolution of driving risks during specific periods. By selecting a range of time periods, users can visualize the changing landscape of driving hazards through chronological graphs and trend charts. \n",
    "\n",
    "#### 2. Analyzing Driving Trends with Customizable Graphs\n",
    "DriveSafeUSA's application offers users a plethora of graphs with distinct lines, each representing various driving metrics. Users can select specific lines to analyze data within a designated period, facilitating a comprehensive understanding of their driving habits and performance over time. This feature empowers users to pinpoint trends, identify areas for improvement, and make informed decisions to enhance their safety on the road.\n",
    "\n",
    "#### 3. Stay Informed, Stay Safe:\n",
    "DriveSafeUSA will help you to access insightful analytics, and gain a deeper understanding of driving patterns and trends. By staying informed, you can proactively adjust your driving behavior and contribute to a safer driving environment for yourself and others.\n",
    "\n",
    "\n",
    "## Join Us in Making America's Roads Safer\n",
    "At DriveSafeUSA, our mission is to make America's roads safer for everyone. By utilizing our platform, you're not just accessing valuable information - you're actively contributing to a safer driving environment for yourself and others.\n",
    "\n"
   ]
  },
  {
   "cell_type": "code",
   "execution_count": 4,
   "metadata": {},
   "outputs": [
    {
     "data": {
      "application/vnd.jupyter.widget-view+json": {
       "model_id": "bdc29151382e428480756ff577bd1cef",
       "version_major": 2,
       "version_minor": 0
      },
      "text/plain": [
       "Button(description='View Query1 Plots', style=ButtonStyle())"
      ]
     },
     "metadata": {},
     "output_type": "display_data"
    },
    {
     "data": {
      "application/vnd.jupyter.widget-view+json": {
       "model_id": "6516f0b519ab4624837917732652ce74",
       "version_major": 2,
       "version_minor": 0
      },
      "text/plain": [
       "Output()"
      ]
     },
     "metadata": {},
     "output_type": "display_data"
    }
   ],
   "source": [
    "button = widgets.Button(description=\"View Query1 Plots\")\n",
    "output = widgets.Output()\n",
    "\n",
    "def on_button_click(b):\n",
    "    with output:\n",
    "        display(HTML('<script>window.location.href = \"Query1.ipynb\";</script>'))\n",
    "\n",
    "button.on_click(on_button_click)\n",
    "\n",
    "display(button, output)\n"
   ]
  },
  {
   "cell_type": "code",
   "execution_count": 5,
   "metadata": {},
   "outputs": [
    {
     "data": {
      "application/vnd.jupyter.widget-view+json": {
       "model_id": "795c6b6a288e408d9664b59b7a8c79b6",
       "version_major": 2,
       "version_minor": 0
      },
      "text/plain": [
       "Button(description='View Query2 Plots', style=ButtonStyle())"
      ]
     },
     "metadata": {},
     "output_type": "display_data"
    },
    {
     "data": {
      "application/vnd.jupyter.widget-view+json": {
       "model_id": "f8e58b4c9250456aae80b09b1f33b7d7",
       "version_major": 2,
       "version_minor": 0
      },
      "text/plain": [
       "Output()"
      ]
     },
     "metadata": {},
     "output_type": "display_data"
    }
   ],
   "source": [
    "button = widgets.Button(description=\"View Query2 Plots\")\n",
    "output = widgets.Output()\n",
    "\n",
    "def on_button_click(b):\n",
    "    with output:\n",
    "        display(HTML('<script>window.location.href = \"Query2.ipynb\";</script>'))\n",
    "\n",
    "button.on_click(on_button_click)\n",
    "\n",
    "display(button, output)"
   ]
  },
  {
   "cell_type": "code",
   "execution_count": 6,
   "metadata": {},
   "outputs": [
    {
     "data": {
      "application/vnd.jupyter.widget-view+json": {
       "model_id": "62c2c5bae3504b9db7bf90380635fe1a",
       "version_major": 2,
       "version_minor": 0
      },
      "text/plain": [
       "Button(description='View Query3 Plots', style=ButtonStyle())"
      ]
     },
     "metadata": {},
     "output_type": "display_data"
    },
    {
     "data": {
      "application/vnd.jupyter.widget-view+json": {
       "model_id": "4c643ec2832b463996e52be9487b6f9c",
       "version_major": 2,
       "version_minor": 0
      },
      "text/plain": [
       "Output()"
      ]
     },
     "metadata": {},
     "output_type": "display_data"
    }
   ],
   "source": [
    "button = widgets.Button(description=\"View Query3 Plots\")\n",
    "output = widgets.Output()\n",
    "\n",
    "def on_button_click(b):\n",
    "    with output:\n",
    "        display(HTML('<script>window.location.href = \"Query3.ipynb\";</script>'))\n",
    "\n",
    "button.on_click(on_button_click)\n",
    "\n",
    "display(button, output)"
   ]
  },
  {
   "cell_type": "code",
   "execution_count": 7,
   "metadata": {},
   "outputs": [
    {
     "data": {
      "application/vnd.jupyter.widget-view+json": {
       "model_id": "aef04cb48a86427fa707c033017d4b55",
       "version_major": 2,
       "version_minor": 0
      },
      "text/plain": [
       "Button(description='View Query4 Plots', style=ButtonStyle())"
      ]
     },
     "metadata": {},
     "output_type": "display_data"
    },
    {
     "data": {
      "application/vnd.jupyter.widget-view+json": {
       "model_id": "922420b9fee543ba812a781058d9859f",
       "version_major": 2,
       "version_minor": 0
      },
      "text/plain": [
       "Output()"
      ]
     },
     "metadata": {},
     "output_type": "display_data"
    }
   ],
   "source": [
    "button = widgets.Button(description=\"View Query4 Plots\")\n",
    "output = widgets.Output()\n",
    "\n",
    "def on_button_click(b):\n",
    "    with output:\n",
    "        display(HTML('<script>window.location.href = \"Query4.ipynb\";</script>'))\n",
    "\n",
    "button.on_click(on_button_click)\n",
    "\n",
    "display(button, output)"
   ]
  },
  {
   "cell_type": "code",
   "execution_count": 8,
   "metadata": {},
   "outputs": [
    {
     "data": {
      "application/vnd.jupyter.widget-view+json": {
       "model_id": "8b9f1318630643c88881c27f4ebfb7dc",
       "version_major": 2,
       "version_minor": 0
      },
      "text/plain": [
       "Button(description='View Query5 Plots', style=ButtonStyle())"
      ]
     },
     "metadata": {},
     "output_type": "display_data"
    },
    {
     "data": {
      "application/vnd.jupyter.widget-view+json": {
       "model_id": "c84daa951831442c978bd8c275b66e79",
       "version_major": 2,
       "version_minor": 0
      },
      "text/plain": [
       "Output()"
      ]
     },
     "metadata": {},
     "output_type": "display_data"
    }
   ],
   "source": [
    "button = widgets.Button(description=\"View Query5 Plots\")\n",
    "output = widgets.Output()\n",
    "\n",
    "def on_button_click(b):\n",
    "    with output:\n",
    "        display(HTML('<script>window.location.href = \"Query5.ipynb\";</script>'))\n",
    "\n",
    "button.on_click(on_button_click)\n",
    "\n",
    "display(button, output)"
   ]
  }
 ],
 "metadata": {
  "kernelspec": {
   "display_name": "Python 3 (ipykernel)",
   "language": "python",
   "name": "python3"
  },
  "language_info": {
   "codemirror_mode": {
    "name": "ipython",
    "version": 3
   },
   "file_extension": ".py",
   "mimetype": "text/x-python",
   "name": "python",
   "nbconvert_exporter": "python",
   "pygments_lexer": "ipython3",
   "version": "3.11.7"
  }
 },
 "nbformat": 4,
 "nbformat_minor": 4
}
