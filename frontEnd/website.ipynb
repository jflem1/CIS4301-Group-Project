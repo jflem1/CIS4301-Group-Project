{
 "cells": [
  {
   "cell_type": "code",
   "execution_count": 2,
   "metadata": {
    "ExecuteTime": {
     "end_time": "2024-04-14T02:18:58.944224Z",
     "start_time": "2024-04-14T02:18:47.570306Z"
    }
   },
   "outputs": [],
   "source": [
    "#!pip install mercury\n",
    "#!pip install oracledb\n",
    "#!pip install matplotlib\n",
    "#!pip install ipywidgets matplotlib\n",
    "#!pip install ipympl\n"
   ]
  },
  {
   "cell_type": "code",
   "execution_count": 3,
   "metadata": {
    "ExecuteTime": {
     "end_time": "2024-04-14T01:58:08.391416Z",
     "start_time": "2024-04-14T01:58:08.131107Z"
    }
   },
   "outputs": [],
   "source": [
    "#%matplotlib notebook \n",
    "%matplotlib widget\n",
    "#make the plots interactive"
   ]
  },
  {
   "cell_type": "code",
   "execution_count": 4,
   "metadata": {
    "ExecuteTime": {
     "end_time": "2024-04-14T01:58:09.431422Z",
     "start_time": "2024-04-14T01:58:09.142933Z"
    }
   },
   "outputs": [],
   "source": [
    "import mercury as mr # for widgets\n",
    "import oracledb\n",
    "import random # for random data generation\n",
    "from matplotlib import pyplot as plt # for chart\n",
    "import time\n",
    "import numpy as np\n",
    "from ipywidgets import interactive, widgets, interact, interact_manual\n",
    "import IPython.display\n",
    "from IPython.display import display, clear_output, HTML"
   ]
  },
  {
   "cell_type": "code",
   "execution_count": 5,
   "metadata": {
    "ExecuteTime": {
     "end_time": "2024-04-14T01:58:09.557729Z",
     "start_time": "2024-04-14T01:58:09.554533Z"
    }
   },
   "outputs": [],
   "source": [
    "from pythonSqlQuery import *\n",
    "from plotData import *\n"
   ]
  },
  {
   "cell_type": "markdown",
   "metadata": {},
   "source": [
    "# Welcome to DriveSafeUSA \n",
    "Driving is an integral part of our daily lives, but it comes with risks. Every year, countless lives are affected by driving accidents, making it crucial to prioritize safety on the roads. Introducing DriveSafeUSA - an innovative application designed to enhance your driving experience and keep you informed about potential hazards on the road.\n",
    "\n",
    "\n",
    "### What is DriveSafeUSA\n",
    "DriveSafeUSA is a web-based application meticulously crafted to analyze years of driving data with the aim of empowering users with knowledge about potential driving hazards. Our platform is dedicated to promoting safer driving habits and ultimately reducing the number of accidents on American roads.\n",
    "\n",
    "### How to Use DriveSafeUSA\n",
    "DriveSafeUSA is designed to be both simple to use and powerful in its capabilities. With an intuitive user interface, navigating through the application is effortless, yet the insights it provides are profound. Here's how you can harness the full potential of DriveSafeUSA:\n",
    "\n",
    "#### 1. Explore Temporal Analysis: \n",
    "Delve into the depths of driving data with our Temporal Analysis feature. This powerful tool allows users to analyze trends over time, providing invaluable insights into the evolution of driving risks during specific periods. By selecting a range of time periods, users can visualize the changing landscape of driving hazards through chronological graphs and trend charts. \n",
    "\n",
    "#### 2. Analyzing Driving Trends with Customizable Graphs\n",
    "DriveSafeUSA's application offers users a plethora of graphs with distinct lines, each representing various driving metrics. Users can select specific lines to analyze data within a designated period, facilitating a comprehensive understanding of their driving habits and performance over time. This feature empowers users to pinpoint trends, identify areas for improvement, and make informed decisions to enhance their safety on the road.\n",
    "\n",
    "#### 3. Stay Informed, Stay Safe:\n",
    "DriveSafeUSA will help you to access insightful analytics, and gain a deeper understanding of driving patterns and trends. By staying informed, you can proactively adjust your driving behavior and contribute to a safer driving environment for yourself and others.\n",
    "\n",
    "\n",
    "## Join Us in Making America's Roads Safer\n",
    "At DriveSafeUSA, our mission is to make America's roads safer for everyone. By utilizing our platform, you're not just accessing valuable information - you're actively contributing to a safer driving environment for yourself and others.\n",
    "\n"
   ]
  },
  {
   "cell_type": "markdown",
   "metadata": {},
   "source": [
    "## Investigating the Impact of Wind Directions on Road Safety\n",
    "Exploring the relationship between wind direction and accident severity is essential for identifying specific risk factors associated with adverse weather conditions, developing targeted safety measures, and enhancing driver awareness. By understanding how wind direction influences accident severity, transportation authorities can implement optimized resource allocation, policies, and safety campaigns to mitigate risks and improve road safety. This knowledge enables informed decision-making processes aimed at reducing the frequency and severity of accidents caused by adverse wind conditions, ultimately enhancing safety for all road users. Click on the button below to further explore these relationships."
   ]
  },
  {
   "cell_type": "code",
   "execution_count": 6,
   "metadata": {},
   "outputs": [
    {
     "data": {
      "application/vnd.jupyter.widget-view+json": {
       "model_id": "818154e1cc9e419eaaf1f7d3f73a5810",
       "version_major": 2,
       "version_minor": 0
      },
      "text/plain": [
       "Button(description='View Query1 Plots', style=ButtonStyle())"
      ]
     },
     "metadata": {},
     "output_type": "display_data"
    },
    {
     "data": {
      "application/vnd.jupyter.widget-view+json": {
       "model_id": "15d85f11d8fe45d4848cb5b5145329ff",
       "version_major": 2,
       "version_minor": 0
      },
      "text/plain": [
       "Output()"
      ]
     },
     "metadata": {},
     "output_type": "display_data"
    }
   ],
   "source": [
    "button = widgets.Button(description=\"View Query1 Plots\")\n",
    "output = widgets.Output()\n",
    "\n",
    "def on_button_click(b):\n",
    "    with output:\n",
    "        display(HTML('<script>window.location.href = \"Query1.ipynb\";</script>'))\n",
    "\n",
    "button.on_click(on_button_click)\n",
    "\n",
    "display(button, output)\n"
   ]
  },
  {
   "cell_type": "code",
   "execution_count": null,
   "metadata": {},
   "outputs": [],
   "source": [
    "button = widgets.Button(description=\"View Query2 Plots\")\n",
    "output = widgets.Output()\n",
    "\n",
    "def on_button_click(b):\n",
    "    with output:\n",
    "        display(HTML('<script>window.location.href = \"Query2.ipynb\";</script>'))\n",
    "\n",
    "button.on_click(on_button_click)\n",
    "\n",
    "display(button, output)"
   ]
  },
  {
   "cell_type": "code",
   "execution_count": null,
   "metadata": {},
   "outputs": [],
   "source": [
    "button = widgets.Button(description=\"View Query4 Plots\")\n",
    "output = widgets.Output()\n",
    "\n",
    "def on_button_click(b):\n",
    "    with output:\n",
    "        display(HTML('<script>window.location.href = \"Query4.ipynb\";</script>'))\n",
    "\n",
    "button.on_click(on_button_click)\n",
    "\n",
    "display(button, output)"
   ]
  },
  {
   "cell_type": "code",
   "execution_count": null,
   "metadata": {},
   "outputs": [],
   "source": [
    "button = widgets.Button(description=\"View Query5 Plots\")\n",
    "output = widgets.Output()\n",
    "\n",
    "def on_button_click(b):\n",
    "    with output:\n",
    "        display(HTML('<script>window.location.href = \"Query5.ipynb\";</script>'))\n",
    "\n",
    "button.on_click(on_button_click)\n",
    "\n",
    "display(button, output)"
   ]
  }
 ],
 "metadata": {
  "kernelspec": {
   "display_name": "Python 3 (ipykernel)",
   "language": "python",
   "name": "python3"
  },
  "language_info": {
   "codemirror_mode": {
    "name": "ipython",
    "version": 3
   },
   "file_extension": ".py",
   "mimetype": "text/x-python",
   "name": "python",
   "nbconvert_exporter": "python",
   "pygments_lexer": "ipython3",
   "version": "3.11.7"
  }
 },
 "nbformat": 4,
 "nbformat_minor": 4
}
