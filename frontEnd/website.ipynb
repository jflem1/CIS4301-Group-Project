{
 "cells": [
  {
   "cell_type": "code",
   "execution_count": 1,
   "metadata": {
    "ExecuteTime": {
     "end_time": "2024-04-14T02:18:58.944224Z",
     "start_time": "2024-04-14T02:18:47.570306Z"
    }
   },
   "outputs": [],
   "source": [
    "#!pip install mercury\n",
    "#!pip install oracledb\n",
    "#!pip install matplotlib\n",
    "#!pip install ipywidgets matplotlib\n",
    "#!pip install ipympl\n"
   ]
  },
  {
   "cell_type": "code",
   "execution_count": 2,
   "metadata": {
    "ExecuteTime": {
     "end_time": "2024-04-14T01:58:08.391416Z",
     "start_time": "2024-04-14T01:58:08.131107Z"
    }
   },
   "outputs": [],
   "source": [
    "#%matplotlib notebook \n",
    "%matplotlib widget\n",
    "#make the plots interactive"
   ]
  },
  {
   "cell_type": "code",
   "execution_count": 3,
   "metadata": {
    "ExecuteTime": {
     "end_time": "2024-04-14T01:58:09.431422Z",
     "start_time": "2024-04-14T01:58:09.142933Z"
    }
   },
   "outputs": [],
   "source": [
    "import mercury as mr # for widgets\n",
    "import oracledb\n",
    "import random # for random data generation\n",
    "from matplotlib import pyplot as plt # for chart\n",
    "import time\n",
    "import numpy as np\n",
    "from ipywidgets import interactive, widgets, interact, interact_manual\n",
    "import IPython.display\n",
    "from IPython.display import display, clear_output, HTML"
   ]
  },
  {
   "cell_type": "code",
   "execution_count": 4,
   "metadata": {
    "ExecuteTime": {
     "end_time": "2024-04-14T01:58:09.557729Z",
     "start_time": "2024-04-14T01:58:09.554533Z"
    }
   },
   "outputs": [],
   "source": [
    "from pythonSqlQuery import *\n",
    "from plotData import *"
   ]
  },
  {
   "cell_type": "code",
   "execution_count": 4,
   "metadata": {},
   "outputs": [
    {
     "data": {
      "application/vnd.jupyter.widget-view+json": {
       "model_id": "e71778344057491a9065dbd1688de2f3",
       "version_major": 2,
       "version_minor": 0
      },
      "text/plain": [
       "Button(description='View Query1 Plots', style=ButtonStyle())"
      ]
     },
     "metadata": {},
     "output_type": "display_data"
    },
    {
     "data": {
      "application/vnd.jupyter.widget-view+json": {
       "model_id": "95c08d4f9efa4bddb9c4484399a5245a",
       "version_major": 2,
       "version_minor": 0
      },
      "text/plain": [
       "Output()"
      ]
     },
     "metadata": {},
     "output_type": "display_data"
    }
   ],
   "source": [
    "button = widgets.Button(description=\"View Query1 Plots\")\n",
    "output = widgets.Output()\n",
    "\n",
    "def on_button_click(b):\n",
    "    with output:\n",
    "        display(HTML('<script>window.location.href = \"Query1.ipynb\";</script>'))\n",
    "\n",
    "button.on_click(on_button_click)\n",
    "\n",
    "display(button, output)\n"
   ]
  },
  {
   "cell_type": "code",
   "execution_count": null,
   "metadata": {},
   "outputs": [],
   "source": [
    "button = widgets.Button(description=\"View Query2 Plots\")\n",
    "output = widgets.Output()\n",
    "\n",
    "def on_button_click(b):\n",
    "    with output:\n",
    "        display(HTML('<script>window.location.href = \"Query2.ipynb\";</script>'))\n",
    "\n",
    "button.on_click(on_button_click)\n",
    "\n",
    "display(button, output)"
   ]
  },
  {
   "cell_type": "code",
   "execution_count": null,
   "metadata": {},
   "outputs": [],
   "source": [
    "button = widgets.Button(description=\"View Query4 Plots\")\n",
    "output = widgets.Output()\n",
    "\n",
    "def on_button_click(b):\n",
    "    with output:\n",
    "        display(HTML('<script>window.location.href = \"Query4.ipynb\";</script>'))\n",
    "\n",
    "button.on_click(on_button_click)\n",
    "\n",
    "display(button, output)"
   ]
  },
  {
   "cell_type": "code",
   "execution_count": null,
   "metadata": {},
   "outputs": [],
   "source": [
    "button = widgets.Button(description=\"View Query5 Plots\")\n",
    "output = widgets.Output()\n",
    "\n",
    "def on_button_click(b):\n",
    "    with output:\n",
    "        display(HTML('<script>window.location.href = \"Query5.ipynb\";</script>'))\n",
    "\n",
    "button.on_click(on_button_click)\n",
    "\n",
    "display(button, output)"
   ]
  }
 ],
 "metadata": {
  "kernelspec": {
   "display_name": "Python 3 (ipykernel)",
   "language": "python",
   "name": "python3"
  },
  "language_info": {
   "codemirror_mode": {
    "name": "ipython",
    "version": 3
   },
   "file_extension": ".py",
   "mimetype": "text/x-python",
   "name": "python",
   "nbconvert_exporter": "python",
   "pygments_lexer": "ipython3",
   "version": "3.10.4"
  }
 },
 "nbformat": 4,
 "nbformat_minor": 4
}
