{
 "cells": [
  {
   "cell_type": "code",
   "execution_count": 1,
   "metadata": {},
   "outputs": [],
   "source": [
    "#!pip install mercury\n",
    "#!pip install oracledb\n",
    "#!pip install matplotlib\n",
    "#!pip install ipywidgets matplotlib\n",
    "#!pip install ipympl\n"
   ]
  },
  {
   "cell_type": "code",
   "execution_count": 2,
   "metadata": {},
   "outputs": [],
   "source": [
    "#%matplotlib notebook \n",
    "%matplotlib widget\n",
    "#make the plots interactive\n"
   ]
  },
  {
   "cell_type": "code",
   "execution_count": 3,
   "metadata": {},
   "outputs": [],
   "source": [
    "import mercury as mr # for widgets\n",
    "import oracledb\n",
    "import random # for random data generation\n",
    "from matplotlib import pyplot as plt # for chart\n",
    "import time\n",
    "import numpy as np\n",
    "from ipywidgets import interactive, widgets, interact, interact_manual\n",
    "import IPython.display\n",
    "from IPython.display import display, clear_output, HTML\n"
   ]
  },
  {
   "cell_type": "code",
   "execution_count": 4,
   "metadata": {},
   "outputs": [],
   "source": [
    "from pythonSqlQuery import *\n",
    "from plotData import *\n"
   ]
  },
  {
   "cell_type": "code",
   "execution_count": null,
   "metadata": {
    "scrolled": true
   },
   "outputs": [],
   "source": [
    "raw_data=execute_sql_script(\"../sqlScripts/Query2_DistanceFromCityCenter.sql\") \n",
    "raw_data"
   ]
  },
  {
   "cell_type": "code",
   "execution_count": null,
   "metadata": {},
   "outputs": [],
   "source": [
    "labels=[\"Rural Locations\", \"Suburban Locations\", \"City Locations\"]\n",
    "Query2SeverityPlot(raw_data, labels,\"Query 2: Correlation of Accident Severity and an Accident's Distance From City Center\")"
   ]
  },
  {
   "cell_type": "code",
   "execution_count": null,
   "metadata": {},
   "outputs": [],
   "source": [
    "Query2CrashesPlot(raw_data, labels,\"Query 2: Correlation of Total Number of Crashes and an Accident's Distance From City Center\")"
   ]
  },
  {
   "cell_type": "code",
   "execution_count": null,
   "metadata": {},
   "outputs": [],
   "source": [
    "Query2DistancePlot(raw_data, labels,\"Query 2: Correlation of Distance Affected by a Crash and an Accident's Distance From City Center\")"
   ]
  },
  {
   "cell_type": "code",
   "execution_count": null,
   "metadata": {},
   "outputs": [],
   "source": [
    "Query2CityDistancePlot(raw_data, labels, \"Query2: Correlation of Accident's Distance From City Center and City Type\")"
   ]
  },
  {
   "cell_type": "code",
   "execution_count": null,
   "metadata": {},
   "outputs": [],
   "source": [
    "button = widgets.Button(description=\"Back to Home Page\")\n",
    "output = widgets.Output()\n",
    "\n",
    "def on_button_click(b):\n",
    "    with output:\n",
    "        # Redirect to the Query1 Notebook using HTML\n",
    "        display(HTML('<script>window.location.href = \"website.ipynb\";</script>'))\n",
    "\n",
    "button.on_click(on_button_click)\n",
    "\n",
    "# Display the button\n",
    "display(button, output)"
   ]
  },
  {
   "cell_type": "code",
   "execution_count": null,
   "metadata": {},
   "outputs": [],
   "source": []
  }
 ],
 "metadata": {
  "kernelspec": {
   "display_name": "Python 3 (ipykernel)",
   "language": "python",
   "name": "python3"
  },
  "language_info": {
   "codemirror_mode": {
    "name": "ipython",
    "version": 3
   },
   "file_extension": ".py",
   "mimetype": "text/x-python",
   "name": "python",
   "nbconvert_exporter": "python",
   "pygments_lexer": "ipython3",
   "version": "3.10.4"
  }
 },
 "nbformat": 4,
 "nbformat_minor": 4
}
